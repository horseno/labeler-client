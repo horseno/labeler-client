{
 "cells": [
  {
   "cell_type": "code",
   "execution_count": null,
   "id": "f7412f87",
   "metadata": {},
   "outputs": [],
   "source": [
    "#!pip install git+https://github.com/rit-git/labeler-client.git@v1.0.2"
   ]
  },
  {
   "cell_type": "code",
   "execution_count": 6,
   "id": "b4e89d9b",
   "metadata": {},
   "outputs": [
    {
     "name": "stdout",
     "output_type": "stream",
     "text": [
      "labeler-ui: 1.0.2\n",
      "labeler-client: 1.0.1\n"
     ]
    }
   ],
   "source": [
    "from labeler_ui import Authentication, Dashboard\n",
    "from labeler_client import Service\n",
    "import pandas as pd\n",
    "import os"
   ]
  },
  {
   "cell_type": "markdown",
   "id": "55d368d5",
   "metadata": {},
   "source": [
    "# Authentication and connect to service"
   ]
  },
  {
   "cell_type": "code",
   "execution_count": 31,
   "id": "144342e0",
   "metadata": {},
   "outputs": [
    {
     "data": {
      "text/plain": [
       "show(7f943d77b5e0, self=<labeler_ui.widgets.Authentication.Authentication object at 0x7f943d789070>)"
      ]
     },
     "execution_count": 31,
     "metadata": {},
     "output_type": "execute_result"
    },
    {
     "data": {
      "application/vnd.jupyter.widget-view+json": {
       "model_id": "bd7a4b0706a74e608726a4c1fba1865e",
       "version_major": 2,
       "version_minor": 0
      },
      "text/plain": [
       "LayoutWidget(Layout(show(7f943d77b5e0, self=<labeler_ui.widgets.Authentication.Authentication object at 0x7f94…"
      ]
     },
     "metadata": {},
     "output_type": "display_data"
    }
   ],
   "source": [
    "# if token note available\n",
    "auth = Authentication() \n",
    "auth.show()\n"
   ]
  },
  {
   "cell_type": "code",
   "execution_count": 32,
   "id": "aa40a2ec",
   "metadata": {},
   "outputs": [],
   "source": [
    "# connecting with auth object, need to re-authenticate every 60 mins\n",
    "demo = Service(project='demo',auth=auth)"
   ]
  },
  {
   "cell_type": "code",
   "execution_count": null,
   "id": "ba9b93a9",
   "metadata": {},
   "outputs": [],
   "source": [
    "%env TOKEN=..."
   ]
  },
  {
   "cell_type": "code",
   "execution_count": 26,
   "id": "a138bd84",
   "metadata": {},
   "outputs": [],
   "source": [
    "# if token is available\n",
    "token = os.environ['TOKEN']\n",
    "# connecting\n",
    "demo = Service(project='demo',token=token)"
   ]
  },
  {
   "cell_type": "markdown",
   "id": "81a0d438",
   "metadata": {},
   "source": [
    "# Setting schema"
   ]
  },
  {
   "cell_type": "code",
   "execution_count": 33,
   "id": "a675f9d6",
   "metadata": {},
   "outputs": [
    {
     "data": {
      "text/plain": [
       "[{'active': True,\n",
       "  'created_on': 1663168856667,\n",
       "  'schemas': {'label_schema': [{'level': 'record',\n",
       "     'name': 'sentiment',\n",
       "     'options': [{'text': 'positive', 'value': 'pos'},\n",
       "      {'text': 'negative', 'value': 'neg'}]}]},\n",
       "  'uuid': '523f1256-820b-4b83-a55f-07cf5330c12d'}]"
      ]
     },
     "execution_count": 33,
     "metadata": {},
     "output_type": "execute_result"
    }
   ],
   "source": [
    "demo.get_schemas().set_schemas({\n",
    "    'label_schema': [\n",
    "        {\n",
    "            \"name\": \"sentiment\",\n",
    "            \"level\": \"record\", \n",
    "            \"options\": [\n",
    "                { \"value\": \"pos\", \"text\": \"positive\" },\n",
    "                { \"value\": \"neg\", \"text\": \"negative\" },\n",
    "            ]\n",
    "        }\n",
    "    ]\n",
    "})\n",
    "demo.get_schemas().value(active=True)"
   ]
  },
  {
   "cell_type": "markdown",
   "id": "c86a99e2",
   "metadata": {},
   "source": [
    "# Importing data"
   ]
  },
  {
   "cell_type": "code",
   "execution_count": 11,
   "id": "7651ec9b",
   "metadata": {},
   "outputs": [
    {
     "data": {
      "text/plain": [
       "'201 data records imported into database.'"
      ]
     },
     "execution_count": 11,
     "metadata": {},
     "output_type": "execute_result"
    }
   ],
   "source": [
    "# importing data\n",
    "demo = Service(project='demo',token=token)\n",
    "# importing data\n",
    "df = pd.read_csv('tweets.csv').loc[:200]\n",
    "demo.import_data_df(df, column_mapping={'id':'id',\n",
    "                                        'content':'content'})"
   ]
  },
  {
   "cell_type": "markdown",
   "id": "66a87df3",
   "metadata": {},
   "source": [
    "# Annotating"
   ]
  },
  {
   "cell_type": "code",
   "execution_count": 17,
   "id": "9fc4862e",
   "metadata": {},
   "outputs": [
    {
     "data": {
      "text/plain": [
       "show(7f943d744160, self=<labeler_ui.widgets.Annotation.Annotation object at 0x7f943d7621c0>)"
      ]
     },
     "execution_count": 17,
     "metadata": {},
     "output_type": "execute_result"
    },
    {
     "data": {
      "application/vnd.jupyter.widget-view+json": {
       "model_id": "f17096f95a2d47128618a219be693a87",
       "version_major": 2,
       "version_minor": 0
      },
      "text/plain": [
       "LayoutWidget(Layout(show(7f943d744160, self=<labeler_ui.widgets.Annotation.Annotation object at 0x7f943d7621c0…"
      ]
     },
     "metadata": {},
     "output_type": "display_data"
    }
   ],
   "source": [
    "# search results => subset s1\n",
    "s1 = demo.search(keyword='', limit=10, start=0)\n",
    "# bring up a widget \n",
    "s1.show()"
   ]
  },
  {
   "cell_type": "code",
   "execution_count": 18,
   "id": "00c89fc9",
   "metadata": {},
   "outputs": [
    {
     "data": {
      "text/plain": [
       "show(7f943d759220, self=<labeler_ui.widgets.Annotation.Annotation object at 0x7f943b928bb0>)"
      ]
     },
     "execution_count": 18,
     "metadata": {},
     "output_type": "execute_result"
    },
    {
     "data": {
      "application/vnd.jupyter.widget-view+json": {
       "model_id": "339f0c912b6e4962a5576f4c30c48d6c",
       "version_major": 2,
       "version_minor": 0
      },
      "text/plain": [
       "LayoutWidget(Layout(show(7f943d759220, self=<labeler_ui.widgets.Annotation.Annotation object at 0x7f943b928bb0…"
      ]
     },
     "metadata": {},
     "output_type": "display_data"
    }
   ],
   "source": [
    "s2 = demo.search(keyword='delay', limit=50, start=0)\n",
    "# bring up a widget \n",
    "s2.show()"
   ]
  },
  {
   "cell_type": "markdown",
   "id": "b8489788",
   "metadata": {},
   "source": [
    "# Exporting "
   ]
  },
  {
   "cell_type": "code",
   "execution_count": 20,
   "id": "d1efac72",
   "metadata": {},
   "outputs": [
    {
     "data": {
      "text/html": [
       "<div>\n",
       "<style scoped>\n",
       "    .dataframe tbody tr th:only-of-type {\n",
       "        vertical-align: middle;\n",
       "    }\n",
       "\n",
       "    .dataframe tbody tr th {\n",
       "        vertical-align: top;\n",
       "    }\n",
       "\n",
       "    .dataframe thead th {\n",
       "        text-align: right;\n",
       "    }\n",
       "</style>\n",
       "<table border=\"1\" class=\"dataframe\">\n",
       "  <thead>\n",
       "    <tr style=\"text-align: right;\">\n",
       "      <th></th>\n",
       "      <th>data_id</th>\n",
       "      <th>content</th>\n",
       "      <th>annotator</th>\n",
       "      <th>label_name</th>\n",
       "      <th>label_value</th>\n",
       "    </tr>\n",
       "  </thead>\n",
       "  <tbody>\n",
       "    <tr>\n",
       "      <th>0</th>\n",
       "      <td>567862940348579840</td>\n",
       "      <td>@united I've been doing this for 15 years and ...</td>\n",
       "      <td>00hUwRoyemQtnV7I91R2TpuIcsC3</td>\n",
       "      <td>sentiment</td>\n",
       "      <td>[neg]</td>\n",
       "    </tr>\n",
       "    <tr>\n",
       "      <th>1</th>\n",
       "      <td>567863197341847616</td>\n",
       "      <td>@SouthwestAir Yeah, we figured it out.  Thanks.</td>\n",
       "      <td>00hUwRoyemQtnV7I91R2TpuIcsC3</td>\n",
       "      <td>sentiment</td>\n",
       "      <td>[pos]</td>\n",
       "    </tr>\n",
       "    <tr>\n",
       "      <th>2</th>\n",
       "      <td>567863445422546880</td>\n",
       "      <td>@SouthwestAir On my flight today from RSW to G...</td>\n",
       "      <td>00hUwRoyemQtnV7I91R2TpuIcsC3</td>\n",
       "      <td>sentiment</td>\n",
       "      <td>[pos]</td>\n",
       "    </tr>\n",
       "    <tr>\n",
       "      <th>3</th>\n",
       "      <td>567871168214106112</td>\n",
       "      <td>@USAirways Your whole handling of this was a j...</td>\n",
       "      <td>00hUwRoyemQtnV7I91R2TpuIcsC3</td>\n",
       "      <td>sentiment</td>\n",
       "      <td>[neg]</td>\n",
       "    </tr>\n",
       "  </tbody>\n",
       "</table>\n",
       "</div>"
      ],
      "text/plain": [
       "              data_id                                            content  \\\n",
       "0  567862940348579840  @united I've been doing this for 15 years and ...   \n",
       "1  567863197341847616    @SouthwestAir Yeah, we figured it out.  Thanks.   \n",
       "2  567863445422546880  @SouthwestAir On my flight today from RSW to G...   \n",
       "3  567871168214106112  @USAirways Your whole handling of this was a j...   \n",
       "\n",
       "                      annotator label_name label_value  \n",
       "0  00hUwRoyemQtnV7I91R2TpuIcsC3  sentiment       [neg]  \n",
       "1  00hUwRoyemQtnV7I91R2TpuIcsC3  sentiment       [pos]  \n",
       "2  00hUwRoyemQtnV7I91R2TpuIcsC3  sentiment       [pos]  \n",
       "3  00hUwRoyemQtnV7I91R2TpuIcsC3  sentiment       [neg]  "
      ]
     },
     "execution_count": 20,
     "metadata": {},
     "output_type": "execute_result"
    }
   ],
   "source": [
    "# collecting the annotation generated by all annotators\n",
    "demo.export()"
   ]
  },
  {
   "cell_type": "code",
   "execution_count": null,
   "id": "c4b63b15",
   "metadata": {},
   "outputs": [],
   "source": []
  }
 ],
 "metadata": {
  "kernelspec": {
   "display_name": "labeler",
   "language": "python",
   "name": "labeler"
  },
  "language_info": {
   "codemirror_mode": {
    "name": "ipython",
    "version": 3
   },
   "file_extension": ".py",
   "mimetype": "text/x-python",
   "name": "python",
   "nbconvert_exporter": "python",
   "pygments_lexer": "ipython3",
   "version": "3.8.12"
  }
 },
 "nbformat": 4,
 "nbformat_minor": 5
}
