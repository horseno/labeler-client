{
 "cells": [
  {
   "cell_type": "markdown",
   "id": "43da39bf",
   "metadata": {},
   "source": [
    "# Setup "
   ]
  },
  {
   "cell_type": "code",
   "execution_count": 4,
   "id": "c2f9344c",
   "metadata": {},
   "outputs": [],
   "source": [
    "#!pip install git+https://github.com/rit-git/labeler-client.git@v1.0.2"
   ]
  },
  {
   "cell_type": "code",
   "execution_count": 9,
   "id": "5cb723e1",
   "metadata": {},
   "outputs": [],
   "source": [
    "from labeler_client import Service, Project\n",
    "import pandas as pd\n",
    "import os"
   ]
  },
  {
   "cell_type": "code",
   "execution_count": null,
   "id": "464bcff0",
   "metadata": {},
   "outputs": [],
   "source": [
    "%env TOKEN=..."
   ]
  },
  {
   "cell_type": "markdown",
   "id": "ad93ef61",
   "metadata": {},
   "source": [
    "# Connecting to project"
   ]
  },
  {
   "cell_type": "code",
   "execution_count": 31,
   "id": "783ebdea",
   "metadata": {},
   "outputs": [],
   "source": [
    "# connecting to project\n",
    "sv = Service(project='demo',token=os.environ['TOKEN'])"
   ]
  },
  {
   "cell_type": "markdown",
   "id": "04f4e146",
   "metadata": {},
   "source": [
    "# Updating schema"
   ]
  },
  {
   "cell_type": "code",
   "execution_count": 16,
   "id": "2bc1f589",
   "metadata": {},
   "outputs": [
    {
     "data": {
      "text/plain": [
       "[{'active': True,\n",
       "  'created_on': 1663170874537,\n",
       "  'schemas': {'label_schema': [{'level': 'record',\n",
       "     'name': 'sentiment',\n",
       "     'options': [{'text': 'positive', 'value': 'pos'},\n",
       "      {'text': 'negative', 'value': 'neg'},\n",
       "      {'text': 'neutral', 'value': 'neu'}]},\n",
       "    {'level': 'span_ch',\n",
       "     'name': 'sp',\n",
       "     'options': [{'text': 'positive', 'value': 'pos'},\n",
       "      {'text': 'negative', 'value': 'neg'}]}]},\n",
       "  'uuid': 'ceaa6f3d-d949-4eda-a11f-7f5ce035b6a8'}]"
      ]
     },
     "execution_count": 16,
     "metadata": {},
     "output_type": "execute_result"
    }
   ],
   "source": [
    "sv.get_schemas().set_schemas({\n",
    "    'label_schema': [\n",
    "        {\n",
    "            \"name\": \"sentiment\",\n",
    "            \"level\": \"record\", \n",
    "            \"options\": [\n",
    "                { \"value\": \"pos\", \"text\": \"positive\" },\n",
    "                { \"value\": \"neg\", \"text\": \"negative\" },\n",
    "                { \"value\": \"neu\", \"text\": \"neutral\" },\n",
    "                \n",
    "            ]\n",
    "        },\n",
    "        # adding a span-level label\n",
    "                {\n",
    "            \"name\": \"sp\",\n",
    "            \"level\": \"span_ch\", \n",
    "            \"options\": [\n",
    "                { \"value\": \"pos\", \"text\": \"positive\" },\n",
    "                { \"value\": \"neg\", \"text\": \"negative\" },\n",
    "            ]\n",
    "        }\n",
    "    ]\n",
    "})\n",
    "sv.get_schemas().value(active=True)"
   ]
  },
  {
   "cell_type": "code",
   "execution_count": 17,
   "id": "8556afe0",
   "metadata": {},
   "outputs": [
    {
     "data": {
      "text/plain": [
       "[{'active': False,\n",
       "  'created_on': 1663170742093,\n",
       "  'schemas': {'label_schema': [{'level': 'record',\n",
       "     'name': 'sentiment',\n",
       "     'options': [{'text': 'positive', 'value': 'pos'},\n",
       "      {'text': 'negative', 'value': 'neg'}]},\n",
       "    {'level': 'span_ch',\n",
       "     'name': 'sp',\n",
       "     'options': [{'text': 'positive', 'value': 'pos'},\n",
       "      {'text': 'negative', 'value': 'neg'}]}]},\n",
       "  'uuid': '6332fa12-2db3-4374-899e-73a4a1a22430'},\n",
       " {'active': False,\n",
       "  'created_on': 1663168856667,\n",
       "  'schemas': {'label_schema': [{'level': 'record',\n",
       "     'name': 'sentiment',\n",
       "     'options': [{'text': 'positive', 'value': 'pos'},\n",
       "      {'text': 'negative', 'value': 'neg'}]}]},\n",
       "  'uuid': '523f1256-820b-4b83-a55f-07cf5330c12d'}]"
      ]
     },
     "execution_count": 17,
     "metadata": {},
     "output_type": "execute_result"
    }
   ],
   "source": [
    "# get schema history\n",
    "sv.get_schemas().get_history()"
   ]
  },
  {
   "cell_type": "markdown",
   "id": "a283c4e1",
   "metadata": {},
   "source": [
    "# Loading data with metadata"
   ]
  },
  {
   "cell_type": "code",
   "execution_count": 20,
   "id": "fd887020",
   "metadata": {},
   "outputs": [
    {
     "data": {
      "text/plain": [
       "show(7fd8ed19a040, self=<labeler_ui.widgets.Annotation.Annotation object at 0x7fd8eaf71280>)"
      ]
     },
     "execution_count": 20,
     "metadata": {},
     "output_type": "execute_result"
    },
    {
     "data": {
      "application/vnd.jupyter.widget-view+json": {
       "model_id": "179e5af73be84ae2aecc64a582ef0ccc",
       "version_major": 2,
       "version_minor": 0
      },
      "text/plain": [
       "LayoutWidget(Layout(show(7fd8ed19a040, self=<labeler_ui.widgets.Annotation.Annotation object at 0x7fd8eaf71280…"
      ]
     },
     "metadata": {},
     "output_type": "display_data"
    }
   ],
   "source": [
    "#load data\n",
    "df = pd.read_csv(\"tweets.csv\").loc[:100]\n",
    "sv.import_data_df(df, column_mapping={'id':'id',\n",
    "                                      'content':'content',\n",
    "                                      \"metadata\":'pseudo_label'})\n",
    "s1= sv.search(keyword='',\n",
    "                  limit=10,\n",
    "                  start=0, \n",
    "                  meta_names=['pseudo_label'])\n",
    "s1.show()"
   ]
  },
  {
   "cell_type": "markdown",
   "id": "3671a3f7",
   "metadata": {},
   "source": [
    "# Utilizing metadata \n",
    "## Example 1 : customized embedding"
   ]
  },
  {
   "cell_type": "code",
   "execution_count": 52,
   "id": "8d22977b",
   "metadata": {},
   "outputs": [
    {
     "name": "stderr",
     "output_type": "stream",
     "text": [
      "/opt/miniconda3/envs/labeler/lib/python3.8/site-packages/huggingface_hub/file_download.py:560: FutureWarning: `cached_download` is the legacy way to download files from the HF hub, please consider upgrading to `hf_hub_download`\n",
      "  warnings.warn(\n",
      "Metadata batches processed:: 100%|███████████████████████████████████████| 1/1 [00:06<00:00,  6.35s/it]"
     ]
    },
    {
     "name": "stdout",
     "output_type": "stream",
     "text": [
      "Finished setting metadata bert-embedding for 201 data records\n"
     ]
    },
    {
     "name": "stderr",
     "output_type": "stream",
     "text": [
      "\n"
     ]
    }
   ],
   "source": [
    "# Example 1, adding sentence-bert embedding.\n",
    "# metadata searches.\n",
    "from sentence_transformers import SentenceTransformer\n",
    "model = SentenceTransformer('all-MiniLM-L6-v2')\n",
    "# set metadata generation function \n",
    "sv.set_metadata(\"bert-embedding\",lambda x: list(model.encode(x).astype(float)), 500)"
   ]
  },
  {
   "cell_type": "code",
   "execution_count": 37,
   "id": "a45fc8d5",
   "metadata": {},
   "outputs": [
    {
     "data": {
      "text/plain": [
       "show(7fd8dd307940, self=<labeler_ui.widgets.Annotation.Annotation object at 0x7fd8dd2fbfd0>)"
      ]
     },
     "execution_count": 37,
     "metadata": {},
     "output_type": "execute_result"
    },
    {
     "data": {
      "application/vnd.jupyter.widget-view+json": {
       "model_id": "e831c008aed64566924cdb8ea02b2e07",
       "version_major": 2,
       "version_minor": 0
      },
      "text/plain": [
       "LayoutWidget(Layout(show(7fd8dd307940, self=<labeler_ui.widgets.Annotation.Annotation object at 0x7fd8dd2fbfd0…"
      ]
     },
     "metadata": {},
     "output_type": "display_data"
    }
   ],
   "source": [
    "s3 = sv.search(keyword='delay', limit=3, start=0)\n",
    "s3.show()"
   ]
  },
  {
   "cell_type": "code",
   "execution_count": 39,
   "id": "49ca795c",
   "metadata": {},
   "outputs": [
    {
     "data": {
      "text/plain": [
       "show(7fd8c85ca400, self=<labeler_ui.widgets.Annotation.Annotation object at 0x7fd8c9b91190>)"
      ]
     },
     "execution_count": 39,
     "metadata": {},
     "output_type": "execute_result"
    },
    {
     "data": {
      "application/vnd.jupyter.widget-view+json": {
       "model_id": "1f1186cfd0574feba2230ce83adab07c",
       "version_major": 2,
       "version_minor": 0
      },
      "text/plain": [
       "LayoutWidget(Layout(show(7fd8c85ca400, self=<labeler_ui.widgets.Annotation.Annotation object at 0x7fd8c9b91190…"
      ]
     },
     "metadata": {},
     "output_type": "display_data"
    }
   ],
   "source": [
    "s4 = s3.suggest_similar('bert-embedding', limit=4)# needs to provide a valid meta_name\n",
    "s4.show()"
   ]
  },
  {
   "cell_type": "markdown",
   "id": "fc4efc14",
   "metadata": {},
   "source": [
    "## Example 2: showing hashtags as context"
   ]
  },
  {
   "cell_type": "code",
   "execution_count": 60,
   "id": "af61588f",
   "metadata": {},
   "outputs": [
    {
     "name": "stderr",
     "output_type": "stream",
     "text": [
      "Metadata batches processed:: 100%|███████████████████████████████████████| 1/1 [00:02<00:00,  2.74s/it]"
     ]
    },
    {
     "name": "stdout",
     "output_type": "stream",
     "text": [
      "Finished setting metadata hashtag for 201 data records\n"
     ]
    },
    {
     "name": "stderr",
     "output_type": "stream",
     "text": [
      "\n"
     ]
    }
   ],
   "source": [
    "# user defined function\n",
    "def extract_hashtags(text):\n",
    "    hashtag_list = []\n",
    "    for word in text.split():\n",
    "        if word[0] == '#':\n",
    "            hashtag_list.append(word[:])\n",
    "    # widget can render markdown text\n",
    "    return ''.join(['- {}\\n'.format(x) for x in hashtag_list])\n",
    "\n",
    "# apply metadata to project\n",
    "sv.set_metadata(\"hashtag\",lambda x: extract_hashtags(x), 500)"
   ]
  },
  {
   "cell_type": "code",
   "execution_count": 58,
   "id": "a8256a29",
   "metadata": {},
   "outputs": [
    {
     "data": {
      "text/plain": [
       "show(7fd8dd307e20, self=<labeler_ui.widgets.Annotation.Annotation object at 0x7fd8c8580130>)"
      ]
     },
     "execution_count": 58,
     "metadata": {},
     "output_type": "execute_result"
    },
    {
     "data": {
      "application/vnd.jupyter.widget-view+json": {
       "model_id": "64506190c437462bb492076b6b301462",
       "version_major": 2,
       "version_minor": 0
      },
      "text/plain": [
       "LayoutWidget(Layout(show(7fd8dd307e20, self=<labeler_ui.widgets.Annotation.Annotation object at 0x7fd8c8580130…"
      ]
     },
     "metadata": {},
     "output_type": "display_data"
    }
   ],
   "source": [
    "s1= sv.search(keyword='',\n",
    "                  limit=50,\n",
    "                  start=0, \n",
    "                  meta_names=['hashtag'])\n",
    "s1.show()"
   ]
  },
  {
   "cell_type": "markdown",
   "id": "2645db5c",
   "metadata": {},
   "source": [
    "# Explorating "
   ]
  },
  {
   "cell_type": "code",
   "execution_count": 17,
   "id": "f4a13c88",
   "metadata": {},
   "outputs": [
    {
     "data": {
      "text/plain": [
       "show(7ffd237fb280, self=<labeler_ui.widgets.Annotation.Annotation object at 0x7ffd2388e820>)"
      ]
     },
     "execution_count": 17,
     "metadata": {},
     "output_type": "execute_result"
    },
    {
     "data": {
      "application/vnd.jupyter.widget-view+json": {
       "model_id": "8e9df22196e041358b1ea5c0966c1413",
       "version_major": 2,
       "version_minor": 0
      },
      "text/plain": [
       "LayoutWidget(Layout(show(7ffd237fb280, self=<labeler_ui.widgets.Annotation.Annotation object at 0x7ffd2388e820…"
      ]
     },
     "metadata": {},
     "output_type": "display_data"
    }
   ],
   "source": [
    "s1 = sv.get_subset(keyword='delay', limit=50, start=0)\n",
    "s1.show({'view':'table'})"
   ]
  },
  {
   "cell_type": "markdown",
   "id": "5cdeda76",
   "metadata": {},
   "source": [
    "# Anlysis Dashboard"
   ]
  },
  {
   "cell_type": "code",
   "execution_count": 61,
   "id": "bff7e9bb",
   "metadata": {},
   "outputs": [
    {
     "data": {
      "text/plain": [
       "show(7fd8ed19afa0, self=<labeler_ui.widgets.Dashboard.Dashboard object at 0x7fd8c857f4f0>)"
      ]
     },
     "execution_count": 61,
     "metadata": {},
     "output_type": "execute_result"
    },
    {
     "data": {
      "application/vnd.jupyter.widget-view+json": {
       "model_id": "cbbf49161a8e4e58bf3f2667f7cdaec2",
       "version_major": 2,
       "version_minor": 0
      },
      "text/plain": [
       "LayoutWidget(Layout(show(7fd8ed19afa0, self=<labeler_ui.widgets.Dashboard.Dashboard object at 0x7fd8c857f4f0>)…"
      ]
     },
     "metadata": {},
     "output_type": "display_data"
    }
   ],
   "source": [
    "#Analysis\n",
    "from labeler_ui import Dashboard\n",
    "dash_wg = Dashboard(sv,{'height':500})\n",
    "dash_wg.show()\n"
   ]
  },
  {
   "cell_type": "code",
   "execution_count": 62,
   "id": "6e2bd5f2",
   "metadata": {},
   "outputs": [
    {
     "data": {
      "text/html": [
       "<div>\n",
       "<style scoped>\n",
       "    .dataframe tbody tr th:only-of-type {\n",
       "        vertical-align: middle;\n",
       "    }\n",
       "\n",
       "    .dataframe tbody tr th {\n",
       "        vertical-align: top;\n",
       "    }\n",
       "\n",
       "    .dataframe thead th {\n",
       "        text-align: right;\n",
       "    }\n",
       "</style>\n",
       "<table border=\"1\" class=\"dataframe\">\n",
       "  <thead>\n",
       "    <tr style=\"text-align: right;\">\n",
       "      <th></th>\n",
       "      <th>data_id</th>\n",
       "      <th>content</th>\n",
       "      <th>annotator</th>\n",
       "      <th>label_name</th>\n",
       "      <th>label_value</th>\n",
       "    </tr>\n",
       "  </thead>\n",
       "  <tbody>\n",
       "    <tr>\n",
       "      <th>0</th>\n",
       "      <td>567862940348579840</td>\n",
       "      <td>@united I've been doing this for 15 years and ...</td>\n",
       "      <td>00hUwRoyemQtnV7I91R2TpuIcsC3</td>\n",
       "      <td>sentiment</td>\n",
       "      <td>[neg]</td>\n",
       "    </tr>\n",
       "    <tr>\n",
       "      <th>1</th>\n",
       "      <td>567863197341847616</td>\n",
       "      <td>@SouthwestAir Yeah, we figured it out.  Thanks.</td>\n",
       "      <td>00hUwRoyemQtnV7I91R2TpuIcsC3</td>\n",
       "      <td>sentiment</td>\n",
       "      <td>[pos]</td>\n",
       "    </tr>\n",
       "    <tr>\n",
       "      <th>2</th>\n",
       "      <td>567863445422546880</td>\n",
       "      <td>@SouthwestAir On my flight today from RSW to G...</td>\n",
       "      <td>00hUwRoyemQtnV7I91R2TpuIcsC3</td>\n",
       "      <td>sentiment</td>\n",
       "      <td>[pos]</td>\n",
       "    </tr>\n",
       "    <tr>\n",
       "      <th>3</th>\n",
       "      <td>567871168214106112</td>\n",
       "      <td>@USAirways Your whole handling of this was a j...</td>\n",
       "      <td>00hUwRoyemQtnV7I91R2TpuIcsC3</td>\n",
       "      <td>sentiment</td>\n",
       "      <td>[neg]</td>\n",
       "    </tr>\n",
       "    <tr>\n",
       "      <th>4</th>\n",
       "      <td>567860325179072512</td>\n",
       "      <td>@SouthwestAir took our BOS to BWI plane for a ...</td>\n",
       "      <td>00hUwRoyemQtnV7I91R2TpuIcsC3</td>\n",
       "      <td>sentiment</td>\n",
       "      <td>[neg]</td>\n",
       "    </tr>\n",
       "    <tr>\n",
       "      <th>5</th>\n",
       "      <td>567861727833894912</td>\n",
       "      <td>@united mechanical issues causes delay and con...</td>\n",
       "      <td>00hUwRoyemQtnV7I91R2TpuIcsC3</td>\n",
       "      <td>sentiment</td>\n",
       "      <td>[neg]</td>\n",
       "    </tr>\n",
       "    <tr>\n",
       "      <th>6</th>\n",
       "      <td>567864523585118208</td>\n",
       "      <td>@USAirways delayed my flight 3 times before Ca...</td>\n",
       "      <td>00hUwRoyemQtnV7I91R2TpuIcsC3</td>\n",
       "      <td>sentiment</td>\n",
       "      <td>[neg]</td>\n",
       "    </tr>\n",
       "  </tbody>\n",
       "</table>\n",
       "</div>"
      ],
      "text/plain": [
       "              data_id                                            content  \\\n",
       "0  567862940348579840  @united I've been doing this for 15 years and ...   \n",
       "1  567863197341847616    @SouthwestAir Yeah, we figured it out.  Thanks.   \n",
       "2  567863445422546880  @SouthwestAir On my flight today from RSW to G...   \n",
       "3  567871168214106112  @USAirways Your whole handling of this was a j...   \n",
       "4  567860325179072512  @SouthwestAir took our BOS to BWI plane for a ...   \n",
       "5  567861727833894912  @united mechanical issues causes delay and con...   \n",
       "6  567864523585118208  @USAirways delayed my flight 3 times before Ca...   \n",
       "\n",
       "                      annotator label_name label_value  \n",
       "0  00hUwRoyemQtnV7I91R2TpuIcsC3  sentiment       [neg]  \n",
       "1  00hUwRoyemQtnV7I91R2TpuIcsC3  sentiment       [pos]  \n",
       "2  00hUwRoyemQtnV7I91R2TpuIcsC3  sentiment       [pos]  \n",
       "3  00hUwRoyemQtnV7I91R2TpuIcsC3  sentiment       [neg]  \n",
       "4  00hUwRoyemQtnV7I91R2TpuIcsC3  sentiment       [neg]  \n",
       "5  00hUwRoyemQtnV7I91R2TpuIcsC3  sentiment       [neg]  \n",
       "6  00hUwRoyemQtnV7I91R2TpuIcsC3  sentiment       [neg]  "
      ]
     },
     "execution_count": 62,
     "metadata": {},
     "output_type": "execute_result"
    }
   ],
   "source": [
    "sv.export()"
   ]
  },
  {
   "cell_type": "code",
   "execution_count": null,
   "id": "30bcdf3a",
   "metadata": {},
   "outputs": [],
   "source": []
  }
 ],
 "metadata": {
  "kernelspec": {
   "display_name": "labeler",
   "language": "python",
   "name": "labeler"
  },
  "language_info": {
   "codemirror_mode": {
    "name": "ipython",
    "version": 3
   },
   "file_extension": ".py",
   "mimetype": "text/x-python",
   "name": "python",
   "nbconvert_exporter": "python",
   "pygments_lexer": "ipython3",
   "version": "3.8.12"
  }
 },
 "nbformat": 4,
 "nbformat_minor": 5
}
